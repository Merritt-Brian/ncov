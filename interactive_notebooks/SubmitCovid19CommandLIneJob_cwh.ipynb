{
 "cells": [
  {
   "cell_type": "markdown",
   "metadata": {},
   "source": [
    "submit a shell command as a batch job.\n",
    "See https://github.com/sciserver/SciScript-Python/blob/Feature_Jobs/py3/SciServer/Jobs.py"
   ]
  },
  {
   "cell_type": "code",
   "execution_count": 82,
   "metadata": {},
   "outputs": [],
   "source": [
    "from SciServer import Jobs,Authentication,Config\n",
    "import json\n",
    "import requests\n",
    "import ipywidgets as widgets\n",
    "from os import listdir\n",
    "from os.path import isfile, join\n",
    "import time\n",
    "from datetime import datetime"
   ]
  },
  {
   "cell_type": "markdown",
   "metadata": {},
   "source": [
    "## Parameters to submit the job"
   ]
  },
  {
   "cell_type": "code",
   "execution_count": 83,
   "metadata": {},
   "outputs": [],
   "source": [
    "def pathForUserVolume(uv):\n",
    "    return '{0}/{1}/{2}'.format(uv['rootVolumeName'],uv['owner'],uv['name'])"
   ]
  },
  {
   "cell_type": "code",
   "execution_count": 84,
   "metadata": {},
   "outputs": [],
   "source": [
    "#Your sciserver username and password\n",
    "#USERNAME='howsercw'\n",
    "#PASSWORD='------'\n",
    "\n",
    "# define the required job environment\n",
    "DOMAIN='Small Jobs Domain'  # change with name of new compute domain\n",
    "IMAGE='SciServer Essentials'\n",
    "\n",
    "# define lists of user and data volumes that should be mounted\n",
    "# Add those that you \n",
    "USERVOLUMES=['Storage/howsecw1/persistent','Temporary/howsecw1/scratch']\n",
    "DATAVOLUMES=['COVID-19']\n",
    "\n",
    "RESULTSFOLDERPATH = \"/home/idies/workspace/Temporary/howsecw1/scratch/guppy-fast\"\n",
    "JOBALIAS = \"guppy-fast-cwh\"\n",
    "\n",
    "domains=Jobs.getDockerComputeDomains()\n",
    "domain=None\n",
    "image=None\n",
    "volumes=[]\n",
    "userVolumes=[]\n",
    "dataVolumes=[]\n",
    "for d in domains:\n",
    "    if d['name'] == DOMAIN:\n",
    "        domain=d\n",
    "        for im in d['images']:\n",
    "            if im['name'] == IMAGE:\n",
    "                image = im\n",
    "        for v in d['volumes']:\n",
    "            if v['name'] in DATAVOLUMES:\n",
    "                dataVolumes.append({\"name\":v['name'],'needsWriteAccess':False})\n",
    "        for uv in d['userVolumes']:\n",
    "            path=pathForUserVolume(uv)\n",
    "            if path in USERVOLUMES:\n",
    "                userVolumes.append({'name':uv['name'],'rootVolumeName':uv['rootVolumeName']\n",
    "                                    ,'owner':uv['owner'],'needsWriteAccess':True})\n",
    "        break"
   ]
  },
  {
   "cell_type": "markdown",
   "metadata": {},
   "source": [
    "## Parameters for the analysis "
   ]
  },
  {
   "cell_type": "markdown",
   "metadata": {},
   "source": [
    "Insert any command line arguements needed for scipt.  If more than 1 arguement is needed, you will have to modify the CMD variable below with extra arguements.  My example is providing a path where you want analysis results stored."
   ]
  },
  {
   "cell_type": "markdown",
   "metadata": {},
   "source": [
    "Insert your bash script"
   ]
  },
  {
   "cell_type": "code",
   "execution_count": 85,
   "metadata": {},
   "outputs": [],
   "source": [
    "script='bash -x /home/idies/workspace/Temporary/howsercw/scratch/guppy-fast_small-batch.sh'"
   ]
  },
  {
   "cell_type": "markdown",
   "metadata": {},
   "source": [
    "Other parameters..."
   ]
  },
  {
   "cell_type": "code",
   "execution_count": 86,
   "metadata": {},
   "outputs": [],
   "source": [
    "num_callers=1"
   ]
  },
  {
   "cell_type": "code",
   "execution_count": 87,
   "metadata": {},
   "outputs": [],
   "source": [
    "cpus_per_caller=8"
   ]
  },
  {
   "cell_type": "markdown",
   "metadata": {},
   "source": [
    "## Files for the analysis"
   ]
  },
  {
   "cell_type": "code",
   "execution_count": 88,
   "metadata": {},
   "outputs": [],
   "source": [
    "fast5_path='/home/idies/workspace/covid19/sequencing_runs/20200405_0422_GA30000_FAN30842_00fb1614/fast5_pass'"
   ]
  },
  {
   "cell_type": "code",
   "execution_count": 89,
   "metadata": {},
   "outputs": [],
   "source": [
    "files = [f for f in listdir(fast5_path) if isfile(join(fast5_path, f))]"
   ]
  },
  {
   "cell_type": "code",
   "execution_count": 90,
   "metadata": {},
   "outputs": [
    {
     "data": {
      "text/plain": [
       "3607"
      ]
     },
     "execution_count": 90,
     "metadata": {},
     "output_type": "execute_result"
    }
   ],
   "source": [
    "len(files)"
   ]
  },
  {
   "cell_type": "markdown",
   "metadata": {},
   "source": [
    "Subset file list into sublists of size n...."
   ]
  },
  {
   "cell_type": "code",
   "execution_count": 91,
   "metadata": {},
   "outputs": [],
   "source": [
    "def chunks(files, n):\n",
    "    lst=[]\n",
    "    sublst=[]\n",
    "    for i in range(len(files)):\n",
    "        if i==0:\n",
    "            sublst.append(files[i])\n",
    "        elif i%n == 0:\n",
    "            lst.append(sublst)\n",
    "            sublst=[]\n",
    "            sublst.append(files[i])\n",
    "        else:\n",
    "            sublst.append(files[i])\n",
    "    lst.append(sublst)\n",
    "    return lst"
   ]
  },
  {
   "cell_type": "code",
   "execution_count": 92,
   "metadata": {},
   "outputs": [],
   "source": [
    "file_sublists=chunks(files,5)"
   ]
  },
  {
   "cell_type": "markdown",
   "metadata": {},
   "source": [
    "Converting sublist to string..."
   ]
  },
  {
   "cell_type": "code",
   "execution_count": 93,
   "metadata": {},
   "outputs": [],
   "source": [
    "def listToString(s):  \n",
    "    \n",
    "    # initialize an empty string \n",
    "    str1 = \"\"  \n",
    "    \n",
    "    # traverse in the string   \n",
    "    for ele in s:  \n",
    "        str1 += ele + \" \"   \n",
    "    \n",
    "    # return string   \n",
    "    return str1  "
   ]
  },
  {
   "cell_type": "markdown",
   "metadata": {},
   "source": [
    "Create command: merge bash script with parameters and input files for analysis..."
   ]
  },
  {
   "cell_type": "code",
   "execution_count": 94,
   "metadata": {},
   "outputs": [],
   "source": [
    "commands=[]\n",
    "for i in range(len(file_sublists)):\n",
    "    job_id=i\n",
    "    command = script + \" \" + str(job_id) + \" \" + str(num_callers) + \" \" + str(cpus_per_caller) + \" \" + listToString(file_sublists[i])\n",
    "    commands.append(command)\n"
   ]
  },
  {
   "cell_type": "code",
   "execution_count": 95,
   "metadata": {},
   "outputs": [
    {
     "data": {
      "text/plain": [
       "'bash -x /home/idies/workspace/Temporary/howsercw/scratch/guppy-fast_small-batch.sh 3 1 8 FAN30842_d6d3150416e0daf48d962bf781d6861ef13c9666_1003.fast5 FAN30842_d6d3150416e0daf48d962bf781d6861ef13c9666_1026.fast5 FAN30842_d6d3150416e0daf48d962bf781d6861ef13c9666_1004.fast5 FAN30842_d6d3150416e0daf48d962bf781d6861ef13c9666_1027.fast5 FAN30842_d6d3150416e0daf48d962bf781d6861ef13c9666_1005.fast5 '"
      ]
     },
     "execution_count": 95,
     "metadata": {},
     "output_type": "execute_result"
    }
   ],
   "source": [
    "commands[3]"
   ]
  },
  {
   "cell_type": "code",
   "execution_count": 96,
   "metadata": {},
   "outputs": [
    {
     "data": {
      "text/plain": [
       "722"
      ]
     },
     "execution_count": 96,
     "metadata": {},
     "output_type": "execute_result"
    }
   ],
   "source": [
    "len(commands)"
   ]
  },
  {
   "cell_type": "markdown",
   "metadata": {},
   "source": [
    "## Run the analysis"
   ]
  },
  {
   "cell_type": "markdown",
   "metadata": {},
   "source": [
    "### submit All Batches"
   ]
  },
  {
   "cell_type": "code",
   "execution_count": 97,
   "metadata": {},
   "outputs": [],
   "source": [
    "def chunk_commands(lst, n):\n",
    "    for i in range(0, len(lst), n):\n",
    "        yield lst[i:i + n]"
   ]
  },
  {
   "cell_type": "code",
   "execution_count": 98,
   "metadata": {},
   "outputs": [],
   "source": [
    "def submit_batch(commands):\n",
    "    jobs=[]\n",
    "    for command in commands:\n",
    "        job=Jobs.submitShellCommandJob(shellCommand=command\n",
    "                                    , dockerComputeDomain = domain\n",
    "                                    , dockerImageName = IMAGE\n",
    "                                    , userVolumes = userVolumes, dataVolumes=dataVolumes\n",
    "                                    , resultsFolderPath = \"/home/idies/workspace/Temporary/howsercw/scratch/jobs\"\n",
    "                                    , jobAlias = JOBALIAS)\n",
    "        jobs.append(job)\n",
    "        time.sleep(30)\n",
    "    return jobs\n",
    "    "
   ]
  },
  {
   "cell_type": "code",
   "execution_count": null,
   "metadata": {},
   "outputs": [
    {
     "name": "stdout",
     "output_type": "stream",
     "text": [
      "2020-04-24 20:55:55.786721 Now Running Batch #1, Jobs: \t63743, 63744, 63745, 63746\n"
     ]
    }
   ],
   "source": [
    "#instantiate generator to grab 4 commands at a time in succession from the commands list object\n",
    "chunk_generator=chunk_commands(commands[177:],4)\n",
    "\n",
    "#get next chunk of commands\n",
    "next_chunk=next(chunk_generator)\n",
    "\n",
    "#run this batch of jobs, report to STDOUT\n",
    "jobs=submit_batch(next_chunk)\n",
    "batch_no=1    \n",
    "print(str(datetime.now()) + \" Now Running Batch #\" + str(batch_no) + \", Jobs: \", end=\"\\t\")\n",
    "print(*jobs, sep = \", \")\n",
    "\n",
    "#set batch flag to false\n",
    "doneFlag=False  \n",
    "\n",
    "\n",
    "#monitor jobs in each batch\n",
    "#upon full batch complete, grab and submit next chunk of jobs\n",
    "#continue until all jobs are complete\n",
    "while doneFlag==False:\n",
    "    batchStatus=[]\n",
    "    for job in jobs:\n",
    "        batchStatus.append(Jobs.getJobStatus(job)['status'])\n",
    "    if all(status >= 32 for status in batchStatus):\n",
    "        print(str(datetime.now()) + \" Jobs done!\", end=\"\\n\")\n",
    "        try:\n",
    "            next_chunk = next(chunk_generator)\n",
    "        except StopIteration:\n",
    "            doneFlag=True\n",
    "        if doneFlag==False:\n",
    "            jobs=submit_batch(next_chunk)\n",
    "            batch_no= batch_no + 1\n",
    "            print(str(datetime.now()) + \" Now Running Batch #\" + str(batch_no) + \", Jobs: \", end=\"\\t\")\n",
    "            print(*jobs, sep = \", \")\n",
    "        else: \n",
    "            print(str(datetime.now()) + \" All Batches Complete! \", end=\"\\n\")\n",
    "    else:\n",
    "        doneFlag=False\n",
    "        time.sleep(60)"
   ]
  },
  {
   "cell_type": "markdown",
   "metadata": {},
   "source": [
    "### submit Single"
   ]
  },
  {
   "cell_type": "code",
   "execution_count": 242,
   "metadata": {},
   "outputs": [
    {
     "name": "stdout",
     "output_type": "stream",
     "text": [
      "63469\n"
     ]
    }
   ],
   "source": [
    "command=commands[14]\n",
    "job=Jobs.submitShellCommandJob(shellCommand=command\n",
    "                            , dockerComputeDomain = domain\n",
    "                            , dockerImageName = IMAGE\n",
    "                            , userVolumes = userVolumes, dataVolumes=dataVolumes\n",
    "                            , resultsFolderPath = \"/home/idies/workspace/Temporary/howsercw/scratch/jobs\"\n",
    "                            , jobAlias = JOBALIAS)\n",
    "print(job)"
   ]
  },
  {
   "cell_type": "code",
   "execution_count": 186,
   "metadata": {},
   "outputs": [],
   "source": [
    "#cancel single job\n",
    "Jobs.cancelJob(63415)"
   ]
  },
  {
   "cell_type": "markdown",
   "metadata": {},
   "source": [
    "### submit 1 Batch"
   ]
  },
  {
   "cell_type": "code",
   "execution_count": 32,
   "metadata": {},
   "outputs": [],
   "source": [
    "#submit batch jobs\n",
    "jobs=[]\n",
    "for command in commands[41:46]:\n",
    "    job=Jobs.submitShellCommandJob(shellCommand=command\n",
    "                                , dockerComputeDomain = domain\n",
    "                                , dockerImageName = IMAGE\n",
    "                                , userVolumes = userVolumes, dataVolumes=dataVolumes\n",
    "                                , resultsFolderPath = \"/home/idies/workspace/Temporary/howsercw/scratch/jobs\"\n",
    "                                , jobAlias = JOBALIAS)\n",
    "    jobs.append(job)\n",
    "    time.sleep(30)\n",
    "    #print(job)"
   ]
  },
  {
   "cell_type": "code",
   "execution_count": 217,
   "metadata": {},
   "outputs": [],
   "source": [
    "#cancel batch jobs\n",
    "#for job in jobs:\n",
    "#    Jobs.cancelJob(job)"
   ]
  }
 ],
 "metadata": {
  "kernelspec": {
   "display_name": "Python 3.7 (py37)",
   "language": "python",
   "name": "py37"
  },
  "language_info": {
   "codemirror_mode": {
    "name": "ipython",
    "version": 3
   },
   "file_extension": ".py",
   "mimetype": "text/x-python",
   "name": "python",
   "nbconvert_exporter": "python",
   "pygments_lexer": "ipython3",
   "version": "3.7.4"
  }
 },
 "nbformat": 4,
 "nbformat_minor": 4
}
